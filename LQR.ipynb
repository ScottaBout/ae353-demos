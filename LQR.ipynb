{
 "cells": [
  {
   "cell_type": "markdown",
   "metadata": {},
   "source": [
    "# LQR"
   ]
  },
  {
   "cell_type": "markdown",
   "metadata": {},
   "source": [
    "Import all necessary libraries before we do anything"
   ]
  },
  {
   "cell_type": "code",
   "execution_count": 1,
   "metadata": {},
   "outputs": [],
   "source": [
    "from scipy import linalg"
   ]
  },
  {
   "cell_type": "markdown",
   "metadata": {},
   "source": [
    "As you know, the linear quadratic regulator (LQR) is a system for determining the optimal gain matrix $K$ of a system, given the states $(x)$ and inputs $(u)$, state matrix $(A)$ and input matrix $(B)$, and the weight matrices $(Q$ and $R)$ as shown below.\n",
    "\n",
    "Here is a function that solves the LQR problem - i.e., that finds the matrix $K$ for which\n",
    "\n",
    "$$u(t) = - K x(t)$$\n",
    "\n",
    "is the optimal solution to\n",
    "\n",
    "$$\n",
    "\\begin{align*}\n",
    "\\underset{u_{[t_{0}, \\infty)}}{\\text{minimize}} &\\qquad \\int_{t_{0}}^{\\infty}\\left( x(t)^{T}Qx(t)+u(t)^{T}Ru(t)\\right)dt \\\\\n",
    "\\text{subject to} &\\qquad \\dot{x}(t) = Ax(t)+Bu(t), \\quad x(t_{0})=x_{0}.\n",
    "\\end{align*}\n",
    "$$\n",
    "\n",
    "This can be implemented in code using the following function, which we will call `lqr`"
   ]
  },
  {
   "cell_type": "code",
   "execution_count": 2,
   "metadata": {},
   "outputs": [],
   "source": [
    "def lqr(A, B, Q, R):\n",
    "    P = linalg.solve_continuous_are(A, B, Q, R)\n",
    "    K = linalg.inv(R) @  B.T @ P\n",
    "    return K"
   ]
  },
  {
   "cell_type": "markdown",
   "metadata": {},
   "source": [
    "Now we just need to formulate the $Q$ and $R$ matrices. This process looks pretty different for the controller and observer, so we'll go through each one in detail in a moment. Firstly, though, we will cover the things about $Q$ and $R$ that apply to both the controller and observer."
   ]
  },
  {
   "cell_type": "markdown",
   "metadata": {},
   "source": [
    "### General $Q$ and $R$ Commonalities"
   ]
  },
  {
   "cell_type": "markdown",
   "metadata": {},
   "source": [
    "- a large Q penalizes high state error\n",
    "- a large R penalizes large control inputs\n",
    "- only diagonal entries matter"
   ]
  },
  {
   "cell_type": "markdown",
   "metadata": {},
   "source": [
    "### Controller $Q$ and $R$"
   ]
  },
  {
   "cell_type": "markdown",
   "metadata": {},
   "source": [
    "- really just guess and check\n",
    "- keep iterating until you have a controller that satisfies your standards"
   ]
  },
  {
   "cell_type": "markdown",
   "metadata": {},
   "source": [
    "### Observer $Q$ and $R$"
   ]
  },
  {
   "cell_type": "markdown",
   "metadata": {},
   "source": [
    "- find standard deviation of states and inputs through flight testing and data analysis\n",
    "- use Bryson's rule\n",
    "- could also just guess and check this one"
   ]
  },
  {
   "cell_type": "markdown",
   "metadata": {},
   "source": []
  }
 ],
 "metadata": {
  "interpreter": {
   "hash": "0030af7770aa179271eba7e890e4434a5db9205172149c4fee3a5d757dad2e35"
  },
  "kernelspec": {
   "display_name": "Python 3.10.4 64-bit",
   "language": "python",
   "name": "python3"
  },
  "language_info": {
   "codemirror_mode": {
    "name": "ipython",
    "version": 3
   },
   "file_extension": ".py",
   "mimetype": "text/x-python",
   "name": "python",
   "nbconvert_exporter": "python",
   "pygments_lexer": "ipython3",
   "version": "3.10.4"
  },
  "orig_nbformat": 4
 },
 "nbformat": 4,
 "nbformat_minor": 2
}
